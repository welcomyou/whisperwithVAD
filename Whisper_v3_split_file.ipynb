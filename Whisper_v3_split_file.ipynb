{
 "cells": [
  {
   "cell_type": "code",
   "execution_count": null,
   "metadata": {
    "id": "9YgwKRl5JwF7",
    "tags": []
   },
   "outputs": [],
   "source": [
    "#LƯU Ý. ĐỂ CHẠY ĐƯỢC OFFLINE, PHẢI CHẠY LẦN ĐẦU ONLINE TRƯỚC (ĐỂ CODE TẢI CÁC MODEL VỀ CACHE)"
   ]
  },
  {
   "cell_type": "code",
   "execution_count": null,
   "metadata": {
    "id": "9YgwKRl5JwF7",
    "tags": []
   },
   "outputs": [],
   "source": [
    "!rmdir /s /q \"../Whisper/content/audio_split_files\""
   ]
  },
  {
   "cell_type": "code",
   "execution_count": null,
   "metadata": {
    "id": "cVFswWdCMgLo",
    "outputId": "e9798f7d-9861-4dac-9fe5-1fd31b9dadf5",
    "tags": []
   },
   "outputs": [
    {
     "name": "stderr",
     "output_type": "stream",
     "text": [
      "A subdirectory or file ../Whisper/content already exists.\n"
     ]
    }
   ],
   "source": [
    "!mkdir \"../Whisper/content\"\n",
    "!mkdir \"../Whisper/content/audio_split_files\""
   ]
  },
  {
   "cell_type": "code",
   "execution_count": null,
   "metadata": {
    "colab": {
     "base_uri": "https://localhost:8080/"
    },
    "id": "3Hv79LG1355C",
    "outputId": "c88f0927-39e3-4ae1-8ef3-f724eb2b6e24",
    "tags": []
   },
   "outputs": [
    {
     "data": {
      "text/plain": [
       "CompletedProcess(args='ffmpeg -i \"../Whisper/content/1hour_qh.mp3\" -f segment -segment_time 180 -c copy \"../Whisper/content/audio_split_files/1hour_qh.mp3_%03d.mp3\"', returncode=0)"
      ]
     },
     "execution_count": 3,
     "metadata": {},
     "output_type": "execute_result"
    }
   ],
   "source": [
    "import subprocess\n",
    "import os\n",
    "#Chép file .mp3 gốc vào thư mục Document/Whisper/content\n",
    "filename = \"1hour_qh.mp3\"\n",
    "#filename = \"8min.mp3\"\n",
    "\n",
    "#Xác định thời gian cắt nhỏ, càng cắt nhỏ càng ít bị lỗi, nhưng dịch sẽ ko tốt\n",
    "#segment_time = 600 #10 phút\n",
    "#segment_time = 300 #5 phút\n",
    "segment_time = 180 #3 phút\n",
    "\n",
    "ffmpeg_command = f'ffmpeg -i \"../Whisper/content/{filename}\" -f segment -segment_time {segment_time} -c copy \"../Whisper/content/audio_split_files/{filename}_%03d.mp3\"'\n",
    "subprocess.run(ffmpeg_command, shell=True)"
   ]
  },
  {
   "cell_type": "code",
   "execution_count": null,
   "metadata": {
    "id": "F0UalDUBJwF9",
    "tags": []
   },
   "outputs": [],
   "source": [
    "import whisper\n"
   ]
  },
  {
   "cell_type": "code",
   "execution_count": null,
   "metadata": {
    "id": "WGHaVFHSJwF9",
    "tags": []
   },
   "outputs": [],
   "source": [
    "import torch\n",
    "import torchaudio\n",
    "SAMPLING_RATE = 16000"
   ]
  },
  {
   "cell_type": "code",
   "execution_count": null,
   "metadata": {
    "id": "qh2wx0UOJwF9",
    "outputId": "31e280e3-c8b5-471f-f397-1242c7d33e02",
    "tags": []
   },
   "outputs": [
    {
     "name": "stdout",
     "output_type": "stream",
     "text": [
      "Đường dẫn đầy đủ:  C:\\Users\\nhquan\\.cache\\torch\\hub\\snakers4_silero-vad_master\n",
      "Đã có cache, load từ cache\n"
     ]
    },
    {
     "name": "stderr",
     "output_type": "stream",
     "text": [
      "Using cache found in C:\\Users\\nhquan/.cache\\torch\\hub\\snakers4_silero-vad_master\n"
     ]
    }
   ],
   "source": [
    "import os\n",
    "\n",
    "# Lấy đường dẫn thư mục người dùng hiện tại\n",
    "user_folder = os.path.expanduser(\"~\")\n",
    "# Đường dẫn tới file lưu model và utils\n",
    "data_vad_path = os.path.join(user_folder, '.cache', 'torch', 'hub', 'snakers4_silero-vad_master')\n",
    "print(\"Đường dẫn đầy đủ: \", data_vad_path)\n",
    "\n",
    "# Kiểm tra xem file đã tồn tại chưa\n",
    "if os.path.exists(data_vad_path):\n",
    "    # Nếu file tồn tại, load model và utils từ file\n",
    "    print(\"Đã có cache, load từ cache\")\n",
    "    model_vad, utils = torch.hub.load(repo_or_dir='snakers4/silero-vad',\n",
    "                                  model='silero_vad',\n",
    "                                  force_reload=False,\n",
    "                                  onnx=False)\n",
    "else:\n",
    "    print(\"Chưa có cache, cần kết nối Internet lần đầu\")\n",
    "    model_vad, utils = torch.hub.load(repo_or_dir='snakers4/silero-vad',\n",
    "                                  model='silero_vad',\n",
    "                                  force_reload=True,\n",
    "                                  onnx=False)\n",
    "\n",
    "(get_speech_timestamps,\n",
    "     save_audio,\n",
    "     read_audio,\n",
    "     VADIterator,\n",
    "     collect_chunks) = utils"
   ]
  },
  {
   "cell_type": "code",
   "execution_count": null,
   "metadata": {
    "id": "wRTCHGwjJwF9",
    "tags": []
   },
   "outputs": [],
   "source": [
    "def has_duplicates(text):\n",
    "  # Tách text thành các đoạn 30 từ\n",
    "  words = text.split()\n",
    "  for i in range(0, len(words), 40):\n",
    "    if i > len(words) - 40: #Đã chạy đến cuối\n",
    "      last5word = ' '.join(words[-6:])\n",
    "      if text.count(last5word) >= 4:\n",
    "        return True\n",
    "      return False\n",
    "    first3words = ' '.join(words[i:i+3])\n",
    "    subtext = ' '.join(words[i:i+40])\n",
    "    if subtext.count(first3words) >= 3:\n",
    "      return True"
   ]
  },
  {
   "cell_type": "code",
   "execution_count": null,
   "metadata": {
    "id": "jH8prTWRJwF-",
    "tags": []
   },
   "outputs": [],
   "source": [
    "# Đường dẫn đến thư mục chứa tất cả các tệp âm thanh\n",
    "audio_directory = \"../Whisper/content/audio_split_files/\"\n",
    "\n",
    "# Danh sách các tệp âm thanh trong thư mục\n",
    "audio_split_files = os.listdir(audio_directory)\n",
    "\n",
    "# Load mô hình Whisper\n",
    "#model = whisper.load_model(\"large-v3\")\n",
    "#model = whisper.load_model(\"medium\")\n",
    "\n",
    "try:\n",
    "    test_init = model\n",
    "except NameError:\n",
    "    model = whisper.load_model(\"medium\")"
   ]
  },
  {
   "cell_type": "code",
   "execution_count": null,
   "metadata": {
    "id": "zZJ8PkVXJwF-",
    "outputId": "51aa66d4-f6cf-4570-95a2-1069071f5d48",
    "tags": []
   },
   "outputs": [
    {
     "name": "stdout",
     "output_type": "stream",
     "text": [
      "Torch version: 2.1.1+cu118\n",
      "Torchaudio version: 2.1.1+cu118\n"
     ]
    }
   ],
   "source": [
    "print(\"Torch version:\", torch.__version__)\n",
    "print(\"Torchaudio version:\", torchaudio.__version__)"
   ]
  },
  {
   "cell_type": "code",
   "execution_count": null,
   "metadata": {
    "id": "Cy2pWSWn37RQ",
    "outputId": "576aa222-dc8d-4e1c-bcb0-2a58003ec11a",
    "tags": []
   },
   "outputs": [
    {
     "name": "stdout",
     "output_type": "stream",
     "text": [
      "Bị duplicated lần 1: ../Whisper/content/audio_split_files/1hour_qh.mp3_016.mp3\n",
      "Tất cả kết quả đã được ghi vào tệp 'all_transcriptions.txt' sau 894.46 (s)\n"
     ]
    }
   ],
   "source": [
    "import time\n",
    "\n",
    "total_time_start = time.time()\n",
    "start_time = time.time()\n",
    "\n",
    "# Khởi tạo chuỗi để lưu kết quả\n",
    "all_transcriptions = \"\"\n",
    "\n",
    "# Lặp qua từng tệp âm thanh và thực hiện xử lý\n",
    "for audio_file in sorted(audio_split_files):\n",
    "    if audio_file.endswith(\".mp3\"):\n",
    "        audio_path = os.path.join(audio_directory, audio_file)\n",
    "        result = model.transcribe(audio_path)\n",
    "        transcription_text = result['text']\n",
    "        if has_duplicates(transcription_text) == True: #Kiểm tra lần 1 - condition_on_previous_text\n",
    "            print(\"Bị duplicated lần 1:\", audio_path)\n",
    "            result = model.transcribe(audio_path, condition_on_previous_text=False)\n",
    "            transcription_text = result['text']\n",
    "            if has_duplicates(transcription_text) == True: #Kiểm tra lần 2 - VAD\n",
    "                #VAD audio file\n",
    "                print(\"Bị duplicated lần 2:\", audio_path)\n",
    "                wav = read_audio(audio_path, sampling_rate=SAMPLING_RATE)\n",
    "                # get speech timestamps from full audio file\n",
    "                speech_timestamps = get_speech_timestamps(wav, model_vad, sampling_rate=SAMPLING_RATE, threshold = 0.6)\n",
    "                # merge all speech chunks to one audio\n",
    "                save_audio('../Whisper/content/audio_split_files/temp.wav', collect_chunks(speech_timestamps, wav), sampling_rate=SAMPLING_RATE)\n",
    "                result = model.transcribe('../Whisper/content/audio_split_files/temp.wav', condition_on_previous_text=False)\n",
    "                transcription_text = result['text']\n",
    "                if has_duplicates(transcription_text) == True: #Kiểm tra lần 3\n",
    "                    print(\"Bị duplicated lần 3 - Chấp nhận:\", audio_path)\n",
    "        all_transcriptions += f\"File: {audio_file}, Transcription: {transcription_text}\\n\"\n",
    "\n",
    "# Ghi kết quả vào tệp\n",
    "with open(\"../Whisper/content/all_transcriptions.txt\", \"w\", encoding=\"utf-8\") as output_file:\n",
    "    output_file.write(all_transcriptions)\n",
    "\n",
    "end_time = time.time()\n",
    "# In thông báo khi hoàn thành\n",
    "print(\"Tất cả kết quả đã được ghi vào tệp 'all_transcriptions.txt' sau %.2f (s)\" % (end_time - start_time))\n"
   ]
  },
  {
   "cell_type": "code",
   "execution_count": null,
   "metadata": {
    "id": "YmAFrV8sLmkJ"
   },
   "outputs": [],
   "source": [
    "# Sử dụng lệnh cat để hiển thị nội dung tệp \"all_transcriptions.txt\"\n",
    "print(all_transcriptions)"
   ]
  }
 ],
 "metadata": {
  "accelerator": "GPU",
  "colab": {
   "gpuType": "T4",
   "provenance": []
  },
  "kernelspec": {
   "display_name": "Python 3 (ipykernel)",
   "language": "python",
   "name": "python3"
  },
  "language_info": {
   "codemirror_mode": {
    "name": "ipython",
    "version": 3
   },
   "file_extension": ".py",
   "mimetype": "text/x-python",
   "name": "python",
   "nbconvert_exporter": "python",
   "pygments_lexer": "ipython3",
   "version": "3.11.5"
  }
 },
 "nbformat": 4,
 "nbformat_minor": 4
}
